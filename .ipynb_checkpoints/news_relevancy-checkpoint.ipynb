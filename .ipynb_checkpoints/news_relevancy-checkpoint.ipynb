{
 "cells": [
  {
   "cell_type": "markdown",
   "metadata": {},
   "source": [
    "## Predicting news relevancy"
   ]
  },
  {
   "cell_type": "code",
   "execution_count": 1,
   "metadata": {},
   "outputs": [],
   "source": [
    "# Basic ML things\n",
    "import numpy as np\n",
    "import pandas as pd\n",
    "from sklearn.pipeline import Pipeline\n",
    "from sklearn.compose import ColumnTransformer\n",
    "from sklearn.preprocessing import OrdinalEncoder\n",
    "from sklearn.model_selection import train_test_split\n",
    "\n",
    "# Tensorflow\n",
    "import tensorflow as tf\n",
    "from tensorflow import feature_column\n",
    "from tensorflow.keras import Sequential\n",
    "from tensorflow.keras.layers import Dense, DenseFeatures\n",
    "\n",
    "# Visualization\n",
    "import matplotlib.pyplot as plt\n",
    "import seaborn as sns\n",
    "\n",
    "# Other\n",
    "import os\n",
    "from pprint import pprint"
   ]
  },
  {
   "cell_type": "markdown",
   "metadata": {},
   "source": [
    "#### Loading the data"
   ]
  },
  {
   "cell_type": "code",
   "execution_count": 2,
   "metadata": {},
   "outputs": [
    {
     "name": "stdout",
     "output_type": "stream",
     "text": [
      "['test.csv', 'training-1.csv']\n"
     ]
    }
   ],
   "source": [
    "# Checking our data files.\n",
    "\n",
    "DATA = './data'\n",
    "print(os.listdir(DATA))"
   ]
  },
  {
   "cell_type": "code",
   "execution_count": 3,
   "metadata": {},
   "outputs": [
    {
     "name": "stdout",
     "output_type": "stream",
     "text": [
      "Shape of train dataset = (7534, 29)\n",
      "Shape of test dataset = (1884, 29)\n"
     ]
    },
    {
     "data": {
      "text/html": [
       "<div>\n",
       "<style scoped>\n",
       "    .dataframe tbody tr th:only-of-type {\n",
       "        vertical-align: middle;\n",
       "    }\n",
       "\n",
       "    .dataframe tbody tr th {\n",
       "        vertical-align: top;\n",
       "    }\n",
       "\n",
       "    .dataframe thead th {\n",
       "        text-align: right;\n",
       "    }\n",
       "</style>\n",
       "<table border=\"1\" class=\"dataframe\">\n",
       "  <thead>\n",
       "    <tr style=\"text-align: right;\">\n",
       "      <th></th>\n",
       "      <th>age</th>\n",
       "      <th>app_type</th>\n",
       "      <th>owner_type</th>\n",
       "      <th>owner_influence</th>\n",
       "      <th>number_of_likes</th>\n",
       "      <th>number_of_comments</th>\n",
       "      <th>is_commented_by_connections</th>\n",
       "      <th>is_liked_by_me</th>\n",
       "      <th>is_liked_by_connections</th>\n",
       "      <th>poster_id</th>\n",
       "      <th>...</th>\n",
       "      <th>participant2_action</th>\n",
       "      <th>participant2_gender</th>\n",
       "      <th>participant2_focus</th>\n",
       "      <th>participant2_influence</th>\n",
       "      <th>participant3_id</th>\n",
       "      <th>participant3_action</th>\n",
       "      <th>participant3_gender</th>\n",
       "      <th>participant3_focus</th>\n",
       "      <th>participant3_influence</th>\n",
       "      <th>rank</th>\n",
       "    </tr>\n",
       "    <tr>\n",
       "      <th>id</th>\n",
       "      <th></th>\n",
       "      <th></th>\n",
       "      <th></th>\n",
       "      <th></th>\n",
       "      <th></th>\n",
       "      <th></th>\n",
       "      <th></th>\n",
       "      <th></th>\n",
       "      <th></th>\n",
       "      <th></th>\n",
       "      <th></th>\n",
       "      <th></th>\n",
       "      <th></th>\n",
       "      <th></th>\n",
       "      <th></th>\n",
       "      <th></th>\n",
       "      <th></th>\n",
       "      <th></th>\n",
       "      <th></th>\n",
       "      <th></th>\n",
       "      <th></th>\n",
       "    </tr>\n",
       "  </thead>\n",
       "  <tbody>\n",
       "    <tr>\n",
       "      <th>267446</th>\n",
       "      <td>5.370325e+09</td>\n",
       "      <td>other</td>\n",
       "      <td>space</td>\n",
       "      <td>0.99973</td>\n",
       "      <td>4</td>\n",
       "      <td>0</td>\n",
       "      <td>0</td>\n",
       "      <td>0</td>\n",
       "      <td>1</td>\n",
       "      <td>146</td>\n",
       "      <td>...</td>\n",
       "      <td>liked</td>\n",
       "      <td>female</td>\n",
       "      <td>other</td>\n",
       "      <td>0.99754</td>\n",
       "      <td>17</td>\n",
       "      <td>liked</td>\n",
       "      <td>female</td>\n",
       "      <td>marketing</td>\n",
       "      <td>0.99896</td>\n",
       "      <td>0.83028</td>\n",
       "    </tr>\n",
       "    <tr>\n",
       "      <th>247307</th>\n",
       "      <td>1.885073e+10</td>\n",
       "      <td>wiki</td>\n",
       "      <td>space</td>\n",
       "      <td>0.50000</td>\n",
       "      <td>1</td>\n",
       "      <td>0</td>\n",
       "      <td>0</td>\n",
       "      <td>0</td>\n",
       "      <td>1</td>\n",
       "      <td>124733</td>\n",
       "      <td>...</td>\n",
       "      <td>viewed</td>\n",
       "      <td>male</td>\n",
       "      <td>other</td>\n",
       "      <td>0.23077</td>\n",
       "      <td>3080</td>\n",
       "      <td>viewed</td>\n",
       "      <td>male</td>\n",
       "      <td>marketing</td>\n",
       "      <td>0.23077</td>\n",
       "      <td>0.68673</td>\n",
       "    </tr>\n",
       "    <tr>\n",
       "      <th>175464</th>\n",
       "      <td>6.290477e+10</td>\n",
       "      <td>other</td>\n",
       "      <td>space</td>\n",
       "      <td>0.99923</td>\n",
       "      <td>7</td>\n",
       "      <td>1</td>\n",
       "      <td>1</td>\n",
       "      <td>0</td>\n",
       "      <td>1</td>\n",
       "      <td>13</td>\n",
       "      <td>...</td>\n",
       "      <td>liked</td>\n",
       "      <td>male</td>\n",
       "      <td>other</td>\n",
       "      <td>0.99630</td>\n",
       "      <td>7</td>\n",
       "      <td>liked</td>\n",
       "      <td>male</td>\n",
       "      <td>marketing</td>\n",
       "      <td>0.99886</td>\n",
       "      <td>0.85489</td>\n",
       "    </tr>\n",
       "    <tr>\n",
       "      <th>263732</th>\n",
       "      <td>7.723549e+09</td>\n",
       "      <td>other</td>\n",
       "      <td>space</td>\n",
       "      <td>0.99949</td>\n",
       "      <td>1</td>\n",
       "      <td>1</td>\n",
       "      <td>0</td>\n",
       "      <td>0</td>\n",
       "      <td>1</td>\n",
       "      <td>119774</td>\n",
       "      <td>...</td>\n",
       "      <td>liked</td>\n",
       "      <td>male</td>\n",
       "      <td>marketing</td>\n",
       "      <td>0.99962</td>\n",
       "      <td>22636</td>\n",
       "      <td>viewed</td>\n",
       "      <td>male</td>\n",
       "      <td>other</td>\n",
       "      <td>0.23077</td>\n",
       "      <td>0.79118</td>\n",
       "    </tr>\n",
       "    <tr>\n",
       "      <th>221667</th>\n",
       "      <td>3.146947e+10</td>\n",
       "      <td>forum</td>\n",
       "      <td>space</td>\n",
       "      <td>0.99977</td>\n",
       "      <td>1</td>\n",
       "      <td>2</td>\n",
       "      <td>0</td>\n",
       "      <td>0</td>\n",
       "      <td>1</td>\n",
       "      <td>124732</td>\n",
       "      <td>...</td>\n",
       "      <td>commented</td>\n",
       "      <td>male</td>\n",
       "      <td>marketing</td>\n",
       "      <td>0.99402</td>\n",
       "      <td>126985</td>\n",
       "      <td>liked</td>\n",
       "      <td>male</td>\n",
       "      <td>other</td>\n",
       "      <td>0.99466</td>\n",
       "      <td>0.82705</td>\n",
       "    </tr>\n",
       "  </tbody>\n",
       "</table>\n",
       "<p>5 rows × 29 columns</p>\n",
       "</div>"
      ],
      "text/plain": [
       "                 age app_type owner_type  owner_influence  number_of_likes  \\\n",
       "id                                                                           \n",
       "267446  5.370325e+09    other      space          0.99973                4   \n",
       "247307  1.885073e+10     wiki      space          0.50000                1   \n",
       "175464  6.290477e+10    other      space          0.99923                7   \n",
       "263732  7.723549e+09    other      space          0.99949                1   \n",
       "221667  3.146947e+10    forum      space          0.99977                1   \n",
       "\n",
       "        number_of_comments  is_commented_by_connections  is_liked_by_me  \\\n",
       "id                                                                        \n",
       "267446                   0                            0               0   \n",
       "247307                   0                            0               0   \n",
       "175464                   1                            1               0   \n",
       "263732                   1                            0               0   \n",
       "221667                   2                            0               0   \n",
       "\n",
       "        is_liked_by_connections  poster_id  ... participant2_action  \\\n",
       "id                                          ...                       \n",
       "267446                        1        146  ...               liked   \n",
       "247307                        1     124733  ...              viewed   \n",
       "175464                        1         13  ...               liked   \n",
       "263732                        1     119774  ...               liked   \n",
       "221667                        1     124732  ...           commented   \n",
       "\n",
       "       participant2_gender  participant2_focus  participant2_influence  \\\n",
       "id                                                                       \n",
       "267446              female               other                 0.99754   \n",
       "247307                male               other                 0.23077   \n",
       "175464                male               other                 0.99630   \n",
       "263732                male           marketing                 0.99962   \n",
       "221667                male           marketing                 0.99402   \n",
       "\n",
       "       participant3_id participant3_action participant3_gender  \\\n",
       "id                                                               \n",
       "267446              17               liked              female   \n",
       "247307            3080              viewed                male   \n",
       "175464               7               liked                male   \n",
       "263732           22636              viewed                male   \n",
       "221667          126985               liked                male   \n",
       "\n",
       "        participant3_focus  participant3_influence     rank  \n",
       "id                                                           \n",
       "267446           marketing                 0.99896  0.83028  \n",
       "247307           marketing                 0.23077  0.68673  \n",
       "175464           marketing                 0.99886  0.85489  \n",
       "263732               other                 0.23077  0.79118  \n",
       "221667               other                 0.99466  0.82705  \n",
       "\n",
       "[5 rows x 29 columns]"
      ]
     },
     "execution_count": 3,
     "metadata": {},
     "output_type": "execute_result"
    }
   ],
   "source": [
    "# Splitting data into train and validation sets.\n",
    "\n",
    "all_df = pd.read_csv(os.path.join(DATA, 'training-1.csv'), index_col='id')\n",
    "\n",
    "train_df, test_df = train_test_split(all_df, test_size=0.2)\n",
    "\n",
    "print('Shape of train dataset = {}'.format(train_df.shape))\n",
    "print('Shape of test dataset = {}'.format(test_df.shape))\n",
    "\n",
    "train_df.head()"
   ]
  },
  {
   "cell_type": "code",
   "execution_count": 4,
   "metadata": {},
   "outputs": [],
   "source": [
    "test_df.to_csv(os.path.join(DATA, 'test.csv'))"
   ]
  },
  {
   "cell_type": "markdown",
   "metadata": {},
   "source": [
    "### Exploratory Data Analysis"
   ]
  },
  {
   "cell_type": "markdown",
   "metadata": {},
   "source": [
    "#### Checking missing values"
   ]
  },
  {
   "cell_type": "code",
   "execution_count": 5,
   "metadata": {},
   "outputs": [
    {
     "name": "stdout",
     "output_type": "stream",
     "text": [
      "<class 'pandas.core.frame.DataFrame'>\n",
      "Int64Index: 7534 entries, 267446 to 260054\n",
      "Data columns (total 29 columns):\n",
      " #   Column                       Non-Null Count  Dtype  \n",
      "---  ------                       --------------  -----  \n",
      " 0   age                          7534 non-null   float64\n",
      " 1   app_type                     7534 non-null   object \n",
      " 2   owner_type                   7534 non-null   object \n",
      " 3   owner_influence              7534 non-null   float64\n",
      " 4   number_of_likes              7534 non-null   int64  \n",
      " 5   number_of_comments           7534 non-null   int64  \n",
      " 6   is_commented_by_connections  7534 non-null   int64  \n",
      " 7   is_liked_by_me               7534 non-null   int64  \n",
      " 8   is_liked_by_connections      7534 non-null   int64  \n",
      " 9   poster_id                    7534 non-null   int64  \n",
      " 10  poster_gender                7534 non-null   object \n",
      " 11  poster_focus                 7534 non-null   object \n",
      " 12  poster_influence             7534 non-null   float64\n",
      " 13  participant1_id              7534 non-null   int64  \n",
      " 14  participant1_action          7534 non-null   object \n",
      " 15  participant1_gender          7534 non-null   object \n",
      " 16  participant1_focus           7534 non-null   object \n",
      " 17  participant1_influence       7534 non-null   float64\n",
      " 18  participant2_id              7534 non-null   int64  \n",
      " 19  participant2_action          7534 non-null   object \n",
      " 20  participant2_gender          7534 non-null   object \n",
      " 21  participant2_focus           7534 non-null   object \n",
      " 22  participant2_influence       7534 non-null   float64\n",
      " 23  participant3_id              7534 non-null   int64  \n",
      " 24  participant3_action          7534 non-null   object \n",
      " 25  participant3_gender          7534 non-null   object \n",
      " 26  participant3_focus           7534 non-null   object \n",
      " 27  participant3_influence       7534 non-null   float64\n",
      " 28  rank                         7534 non-null   float64\n",
      "dtypes: float64(7), int64(9), object(13)\n",
      "memory usage: 1.7+ MB\n"
     ]
    }
   ],
   "source": [
    "train_df.info()"
   ]
  },
  {
   "cell_type": "markdown",
   "metadata": {},
   "source": [
    "Luckily, we don't have any missing values. So there is no need to handle 'null's."
   ]
  },
  {
   "cell_type": "markdown",
   "metadata": {},
   "source": [
    "#### Exploring 'label' column"
   ]
  },
  {
   "cell_type": "code",
   "execution_count": 6,
   "metadata": {},
   "outputs": [
    {
     "data": {
      "text/plain": [
       "<matplotlib.axes._subplots.AxesSubplot at 0x7f559f0b1fd0>"
      ]
     },
     "execution_count": 6,
     "metadata": {},
     "output_type": "execute_result"
    },
    {
     "data": {
      "image/png": "[encoded data removed]",
      "text/plain": [
       "<Figure size 720x720 with 1 Axes>"
      ]
     },
     "metadata": {
      "needs_background": "light"
     },
     "output_type": "display_data"
    }
   ],
   "source": [
    "plt.figure(figsize=(10, 10))\n",
    "plt.title(\"'Rank' column distribution\")\n",
    "\n",
    "sns.distplot(train_df['rank'])"
   ]
  },
  {
   "cell_type": "markdown",
   "metadata": {},
   "source": [
    "Data does not follow normal distribution. Also we have some anomalous behaviour at around 0.5 and 0.6 values."
   ]
  },
  {
   "cell_type": "markdown",
   "metadata": {},
   "source": [
    "#### Reviewing outliers"
   ]
  },
  {
   "cell_type": "code",
   "execution_count": 7,
   "metadata": {},
   "outputs": [
    {
     "data": {
      "image/png": "[encoded data removed]",
      "text/plain": [
       "<Figure size 1008x216 with 1 Axes>"
      ]
     },
     "metadata": {
      "needs_background": "light"
     },
     "output_type": "display_data"
    }
   ],
   "source": [
    "plt.figure(figsize=(14, 3))\n",
    "plt.boxplot(x=train_df['rank'], vert=False, sym=\"r.\")\n",
    "plt.tick_params(labelleft=False)\n",
    "plt.title('Rank')\n",
    "\n",
    "plt.tight_layout()"
   ]
  },
  {
   "cell_type": "markdown",
   "metadata": {},
   "source": [
    "We can see that we have many outliers, but none of them are typing or human errors (as all of them are in logical range between 0 and 1), so we do not need to process them. Those are the values that are just hard to get, but not impossible."
   ]
  },
  {
   "cell_type": "markdown",
   "metadata": {},
   "source": [
    "### Checking summary statistics"
   ]
  },
  {
   "cell_type": "code",
   "execution_count": 8,
   "metadata": {},
   "outputs": [
    {
     "name": "stdout",
     "output_type": "stream",
     "text": [
      "Number columns: ['age', 'owner_influence', 'number_of_likes', 'number_of_comments', 'is_commented_by_connections', 'is_liked_by_me', 'is_liked_by_connections', 'poster_id', 'poster_influence', 'participant1_id', 'participant1_influence', 'participant2_id', 'participant2_influence', 'participant3_id', 'participant3_influence']\n",
      "\n",
      "Categorical columns: ['app_type', 'owner_type', 'poster_gender', 'poster_focus', 'participant1_action', 'participant1_gender', 'participant1_focus', 'participant2_action', 'participant2_gender', 'participant2_focus', 'participant3_action', 'participant3_gender', 'participant3_focus']\n"
     ]
    }
   ],
   "source": [
    "all_cols = [col for col in train_df.columns if col != 'rank']\n",
    "num_cols = [col for col in all_cols if train_df[col].dtype in ['int64', 'float64']]\n",
    "cat_cols = [col for col in all_cols if col not in num_cols]\n",
    "\n",
    "print(\"Number columns: {}\".format(num_cols), end=\"\\n\\n\")\n",
    "print(\"Categorical columns: {}\".format(cat_cols))"
   ]
  },
  {
   "cell_type": "markdown",
   "metadata": {},
   "source": [
    "#### Numerical columns"
   ]
  },
  {
   "cell_type": "code",
   "execution_count": 9,
   "metadata": {
    "scrolled": false
   },
   "outputs": [
    {
     "data": {
      "text/html": [
       "<div>\n",
       "<style scoped>\n",
       "    .dataframe tbody tr th:only-of-type {\n",
       "        vertical-align: middle;\n",
       "    }\n",
       "\n",
       "    .dataframe tbody tr th {\n",
       "        vertical-align: top;\n",
       "    }\n",
       "\n",
       "    .dataframe thead th {\n",
       "        text-align: right;\n",
       "    }\n",
       "</style>\n",
       "<table border=\"1\" class=\"dataframe\">\n",
       "  <thead>\n",
       "    <tr style=\"text-align: right;\">\n",
       "      <th></th>\n",
       "      <th>count</th>\n",
       "      <th>mean</th>\n",
       "      <th>std</th>\n",
       "      <th>min</th>\n",
       "      <th>25%</th>\n",
       "      <th>50%</th>\n",
       "      <th>75%</th>\n",
       "      <th>max</th>\n",
       "    </tr>\n",
       "  </thead>\n",
       "  <tbody>\n",
       "    <tr>\n",
       "      <th>age</th>\n",
       "      <td>7534.0</td>\n",
       "      <td>3.407886e+10</td>\n",
       "      <td>1.757247e+10</td>\n",
       "      <td>4.147070e+09</td>\n",
       "      <td>2.109536e+10</td>\n",
       "      <td>3.251597e+10</td>\n",
       "      <td>4.728118e+10</td>\n",
       "      <td>2.050660e+11</td>\n",
       "    </tr>\n",
       "    <tr>\n",
       "      <th>owner_influence</th>\n",
       "      <td>7534.0</td>\n",
       "      <td>7.764587e-01</td>\n",
       "      <td>3.674968e-01</td>\n",
       "      <td>1.000000e-01</td>\n",
       "      <td>7.435900e-01</td>\n",
       "      <td>9.992300e-01</td>\n",
       "      <td>9.997700e-01</td>\n",
       "      <td>9.999200e-01</td>\n",
       "    </tr>\n",
       "    <tr>\n",
       "      <th>number_of_likes</th>\n",
       "      <td>7534.0</td>\n",
       "      <td>4.372578e+00</td>\n",
       "      <td>6.881767e+00</td>\n",
       "      <td>0.000000e+00</td>\n",
       "      <td>0.000000e+00</td>\n",
       "      <td>2.000000e+00</td>\n",
       "      <td>6.000000e+00</td>\n",
       "      <td>6.300000e+01</td>\n",
       "    </tr>\n",
       "    <tr>\n",
       "      <th>number_of_comments</th>\n",
       "      <td>7534.0</td>\n",
       "      <td>1.649854e+00</td>\n",
       "      <td>3.913072e+00</td>\n",
       "      <td>0.000000e+00</td>\n",
       "      <td>0.000000e+00</td>\n",
       "      <td>1.000000e+00</td>\n",
       "      <td>2.000000e+00</td>\n",
       "      <td>1.450000e+02</td>\n",
       "    </tr>\n",
       "    <tr>\n",
       "      <th>is_commented_by_connections</th>\n",
       "      <td>7534.0</td>\n",
       "      <td>4.936289e-01</td>\n",
       "      <td>4.999926e-01</td>\n",
       "      <td>0.000000e+00</td>\n",
       "      <td>0.000000e+00</td>\n",
       "      <td>0.000000e+00</td>\n",
       "      <td>1.000000e+00</td>\n",
       "      <td>1.000000e+00</td>\n",
       "    </tr>\n",
       "    <tr>\n",
       "      <th>is_liked_by_me</th>\n",
       "      <td>7534.0</td>\n",
       "      <td>3.198832e-02</td>\n",
       "      <td>1.759806e-01</td>\n",
       "      <td>0.000000e+00</td>\n",
       "      <td>0.000000e+00</td>\n",
       "      <td>0.000000e+00</td>\n",
       "      <td>0.000000e+00</td>\n",
       "      <td>1.000000e+00</td>\n",
       "    </tr>\n",
       "    <tr>\n",
       "      <th>is_liked_by_connections</th>\n",
       "      <td>7534.0</td>\n",
       "      <td>6.554287e-01</td>\n",
       "      <td>4.752598e-01</td>\n",
       "      <td>0.000000e+00</td>\n",
       "      <td>0.000000e+00</td>\n",
       "      <td>1.000000e+00</td>\n",
       "      <td>1.000000e+00</td>\n",
       "      <td>1.000000e+00</td>\n",
       "    </tr>\n",
       "    <tr>\n",
       "      <th>poster_id</th>\n",
       "      <td>7534.0</td>\n",
       "      <td>4.966205e+04</td>\n",
       "      <td>5.738412e+04</td>\n",
       "      <td>1.000000e+00</td>\n",
       "      <td>1.700000e+01</td>\n",
       "      <td>1.420000e+02</td>\n",
       "      <td>1.170860e+05</td>\n",
       "      <td>1.291040e+05</td>\n",
       "    </tr>\n",
       "    <tr>\n",
       "      <th>poster_influence</th>\n",
       "      <td>7534.0</td>\n",
       "      <td>9.657117e-01</td>\n",
       "      <td>1.506297e-01</td>\n",
       "      <td>9.091000e-02</td>\n",
       "      <td>9.958600e-01</td>\n",
       "      <td>9.980600e-01</td>\n",
       "      <td>9.989500e-01</td>\n",
       "      <td>9.996200e-01</td>\n",
       "    </tr>\n",
       "    <tr>\n",
       "      <th>participant1_id</th>\n",
       "      <td>7534.0</td>\n",
       "      <td>3.855073e+04</td>\n",
       "      <td>5.031230e+04</td>\n",
       "      <td>1.000000e+00</td>\n",
       "      <td>1.700000e+01</td>\n",
       "      <td>1.365900e+04</td>\n",
       "      <td>1.080250e+05</td>\n",
       "      <td>1.291040e+05</td>\n",
       "    </tr>\n",
       "    <tr>\n",
       "      <th>participant1_influence</th>\n",
       "      <td>7534.0</td>\n",
       "      <td>8.550108e-01</td>\n",
       "      <td>2.995503e-01</td>\n",
       "      <td>9.091000e-02</td>\n",
       "      <td>9.945000e-01</td>\n",
       "      <td>9.975600e-01</td>\n",
       "      <td>9.988600e-01</td>\n",
       "      <td>9.996200e-01</td>\n",
       "    </tr>\n",
       "    <tr>\n",
       "      <th>participant2_id</th>\n",
       "      <td>7534.0</td>\n",
       "      <td>3.917882e+04</td>\n",
       "      <td>5.263056e+04</td>\n",
       "      <td>1.000000e+00</td>\n",
       "      <td>3.800000e+01</td>\n",
       "      <td>3.080000e+03</td>\n",
       "      <td>1.104010e+05</td>\n",
       "      <td>1.291040e+05</td>\n",
       "    </tr>\n",
       "    <tr>\n",
       "      <th>participant2_influence</th>\n",
       "      <td>7534.0</td>\n",
       "      <td>7.606392e-01</td>\n",
       "      <td>3.544223e-01</td>\n",
       "      <td>9.091000e-02</td>\n",
       "      <td>2.307700e-01</td>\n",
       "      <td>9.964900e-01</td>\n",
       "      <td>9.986600e-01</td>\n",
       "      <td>9.996200e-01</td>\n",
       "    </tr>\n",
       "    <tr>\n",
       "      <th>participant3_id</th>\n",
       "      <td>7534.0</td>\n",
       "      <td>4.122911e+04</td>\n",
       "      <td>4.846812e+04</td>\n",
       "      <td>1.000000e+00</td>\n",
       "      <td>7.275000e+01</td>\n",
       "      <td>2.263600e+04</td>\n",
       "      <td>1.077110e+05</td>\n",
       "      <td>1.291040e+05</td>\n",
       "    </tr>\n",
       "    <tr>\n",
       "      <th>participant3_influence</th>\n",
       "      <td>7534.0</td>\n",
       "      <td>6.809691e-01</td>\n",
       "      <td>3.778203e-01</td>\n",
       "      <td>9.091000e-02</td>\n",
       "      <td>2.307700e-01</td>\n",
       "      <td>9.948900e-01</td>\n",
       "      <td>9.982500e-01</td>\n",
       "      <td>9.996200e-01</td>\n",
       "    </tr>\n",
       "  </tbody>\n",
       "</table>\n",
       "</div>"
      ],
      "text/plain": [
       "                              count          mean           std           min  \\\n",
       "age                          7534.0  3.407886e+10  1.757247e+10  4.147070e+09   \n",
       "owner_influence              7534.0  7.764587e-01  3.674968e-01  1.000000e-01   \n",
       "number_of_likes              7534.0  4.372578e+00  6.881767e+00  0.000000e+00   \n",
       "number_of_comments           7534.0  1.649854e+00  3.913072e+00  0.000000e+00   \n",
       "is_commented_by_connections  7534.0  4.936289e-01  4.999926e-01  0.000000e+00   \n",
       "is_liked_by_me               7534.0  3.198832e-02  1.759806e-01  0.000000e+00   \n",
       "is_liked_by_connections      7534.0  6.554287e-01  4.752598e-01  0.000000e+00   \n",
       "poster_id                    7534.0  4.966205e+04  5.738412e+04  1.000000e+00   \n",
       "poster_influence             7534.0  9.657117e-01  1.506297e-01  9.091000e-02   \n",
       "participant1_id              7534.0  3.855073e+04  5.031230e+04  1.000000e+00   \n",
       "participant1_influence       7534.0  8.550108e-01  2.995503e-01  9.091000e-02   \n",
       "participant2_id              7534.0  3.917882e+04  5.263056e+04  1.000000e+00   \n",
       "participant2_influence       7534.0  7.606392e-01  3.544223e-01  9.091000e-02   \n",
       "participant3_id              7534.0  4.122911e+04  4.846812e+04  1.000000e+00   \n",
       "participant3_influence       7534.0  6.809691e-01  3.778203e-01  9.091000e-02   \n",
       "\n",
       "                                      25%           50%           75%  \\\n",
       "age                          2.109536e+10  3.251597e+10  4.728118e+10   \n",
       "owner_influence              7.435900e-01  9.992300e-01  9.997700e-01   \n",
       "number_of_likes              0.000000e+00  2.000000e+00  6.000000e+00   \n",
       "number_of_comments           0.000000e+00  1.000000e+00  2.000000e+00   \n",
       "is_commented_by_connections  0.000000e+00  0.000000e+00  1.000000e+00   \n",
       "is_liked_by_me               0.000000e+00  0.000000e+00  0.000000e+00   \n",
       "is_liked_by_connections      0.000000e+00  1.000000e+00  1.000000e+00   \n",
       "poster_id                    1.700000e+01  1.420000e+02  1.170860e+05   \n",
       "poster_influence             9.958600e-01  9.980600e-01  9.989500e-01   \n",
       "participant1_id              1.700000e+01  1.365900e+04  1.080250e+05   \n",
       "participant1_influence       9.945000e-01  9.975600e-01  9.988600e-01   \n",
       "participant2_id              3.800000e+01  3.080000e+03  1.104010e+05   \n",
       "participant2_influence       2.307700e-01  9.964900e-01  9.986600e-01   \n",
       "participant3_id              7.275000e+01  2.263600e+04  1.077110e+05   \n",
       "participant3_influence       2.307700e-01  9.948900e-01  9.982500e-01   \n",
       "\n",
       "                                      max  \n",
       "age                          2.050660e+11  \n",
       "owner_influence              9.999200e-01  \n",
       "number_of_likes              6.300000e+01  \n",
       "number_of_comments           1.450000e+02  \n",
       "is_commented_by_connections  1.000000e+00  \n",
       "is_liked_by_me               1.000000e+00  \n",
       "is_liked_by_connections      1.000000e+00  \n",
       "poster_id                    1.291040e+05  \n",
       "poster_influence             9.996200e-01  \n",
       "participant1_id              1.291040e+05  \n",
       "participant1_influence       9.996200e-01  \n",
       "participant2_id              1.291040e+05  \n",
       "participant2_influence       9.996200e-01  \n",
       "participant3_id              1.291040e+05  \n",
       "participant3_influence       9.996200e-01  "
      ]
     },
     "execution_count": 9,
     "metadata": {},
     "output_type": "execute_result"
    }
   ],
   "source": [
    "train_df[num_cols].describe().T"
   ]
  },
  {
   "cell_type": "markdown",
   "metadata": {},
   "source": [
    "Columns {poster_id, participant1_id, participant2_id, participant3_id} are just identificators for users, it is unlikely that we get some useful insights from here without info about this users.\n",
    "\n",
    "Columns {is_commented_by_connections, is_liked_by_me, is_liked_by_connections} are 'dummy' onehot variables, which can have only 2 values: 0 and 1."
   ]
  },
  {
   "cell_type": "markdown",
   "metadata": {},
   "source": [
    "#### Categorical columns"
   ]
  },
  {
   "cell_type": "code",
   "execution_count": 10,
   "metadata": {},
   "outputs": [
    {
     "data": {
      "text/plain": [
       "app_type               6\n",
       "owner_type             2\n",
       "poster_gender          2\n",
       "poster_focus           5\n",
       "participant1_action    3\n",
       "participant1_gender    2\n",
       "participant1_focus     4\n",
       "participant2_action    3\n",
       "participant2_gender    2\n",
       "participant2_focus     4\n",
       "participant3_action    3\n",
       "participant3_gender    2\n",
       "participant3_focus     4\n",
       "dtype: int64"
      ]
     },
     "execution_count": 10,
     "metadata": {},
     "output_type": "execute_result"
    }
   ],
   "source": [
    "train_df[cat_cols].nunique()"
   ]
  },
  {
   "cell_type": "markdown",
   "metadata": {},
   "source": [
    "All of the columns have no more than 6 unique values.\n",
    "\n",
    "Also, let's take a closer look on this data to know better what we are dealing with."
   ]
  },
  {
   "cell_type": "code",
   "execution_count": 11,
   "metadata": {},
   "outputs": [
    {
     "name": "stdout",
     "output_type": "stream",
     "text": [
      "Unique values in every categorical column:\n",
      "\n",
      "app_type            --> ['other' 'wiki' 'forum' 'calendar' 'poll' 'social']\n",
      "owner_type          --> ['space' 'user']\n",
      "poster_gender       --> ['male' 'female']\n",
      "poster_focus        --> ['marketing' 'other' 'sales' 'engineering' 'none']\n",
      "participant1_action --> ['liked' 'commented' 'viewed']\n",
      "participant1_gender --> ['female' 'male']\n",
      "participant1_focus  --> ['marketing' 'other' 'sales' 'engineering']\n",
      "participant2_action --> ['liked' 'viewed' 'commented']\n",
      "participant2_gender --> ['female' 'male']\n",
      "participant2_focus  --> ['other' 'marketing' 'engineering' 'sales']\n",
      "participant3_action --> ['liked' 'viewed' 'commented']\n",
      "participant3_gender --> ['female' 'male']\n",
      "participant3_focus  --> ['marketing' 'other' 'sales' 'engineering']\n"
     ]
    }
   ],
   "source": [
    "print(\"Unique values in every categorical column:\", end=\"\\n\\n\")\n",
    "for col in cat_cols:\n",
    "    print(\"{:19s} --> {}\".format(col, train_df[col].unique()))"
   ]
  },
  {
   "cell_type": "markdown",
   "metadata": {},
   "source": [
    "Columns {poster_focus, participant1_focus, participant2_focus, participant3_focus} contain 'none' value. According to description of the data, we can change it to 'other' value."
   ]
  },
  {
   "cell_type": "markdown",
   "metadata": {},
   "source": [
    "## Preprocessing data"
   ]
  },
  {
   "cell_type": "markdown",
   "metadata": {},
   "source": [
    "#### Dropping redundant columns"
   ]
  },
  {
   "cell_type": "code",
   "execution_count": 12,
   "metadata": {},
   "outputs": [
    {
     "data": {
      "text/html": [
       "<div>\n",
       "<style scoped>\n",
       "    .dataframe tbody tr th:only-of-type {\n",
       "        vertical-align: middle;\n",
       "    }\n",
       "\n",
       "    .dataframe tbody tr th {\n",
       "        vertical-align: top;\n",
       "    }\n",
       "\n",
       "    .dataframe thead th {\n",
       "        text-align: right;\n",
       "    }\n",
       "</style>\n",
       "<table border=\"1\" class=\"dataframe\">\n",
       "  <thead>\n",
       "    <tr style=\"text-align: right;\">\n",
       "      <th></th>\n",
       "      <th>age</th>\n",
       "      <th>app_type</th>\n",
       "      <th>owner_type</th>\n",
       "      <th>owner_influence</th>\n",
       "      <th>number_of_likes</th>\n",
       "      <th>number_of_comments</th>\n",
       "      <th>is_commented_by_connections</th>\n",
       "      <th>is_liked_by_me</th>\n",
       "      <th>is_liked_by_connections</th>\n",
       "      <th>poster_gender</th>\n",
       "      <th>...</th>\n",
       "      <th>participant1_influence</th>\n",
       "      <th>participant2_action</th>\n",
       "      <th>participant2_gender</th>\n",
       "      <th>participant2_focus</th>\n",
       "      <th>participant2_influence</th>\n",
       "      <th>participant3_action</th>\n",
       "      <th>participant3_gender</th>\n",
       "      <th>participant3_focus</th>\n",
       "      <th>participant3_influence</th>\n",
       "      <th>rank</th>\n",
       "    </tr>\n",
       "    <tr>\n",
       "      <th>id</th>\n",
       "      <th></th>\n",
       "      <th></th>\n",
       "      <th></th>\n",
       "      <th></th>\n",
       "      <th></th>\n",
       "      <th></th>\n",
       "      <th></th>\n",
       "      <th></th>\n",
       "      <th></th>\n",
       "      <th></th>\n",
       "      <th></th>\n",
       "      <th></th>\n",
       "      <th></th>\n",
       "      <th></th>\n",
       "      <th></th>\n",
       "      <th></th>\n",
       "      <th></th>\n",
       "      <th></th>\n",
       "      <th></th>\n",
       "      <th></th>\n",
       "      <th></th>\n",
       "    </tr>\n",
       "  </thead>\n",
       "  <tbody>\n",
       "    <tr>\n",
       "      <th>267446</th>\n",
       "      <td>5.370325e+09</td>\n",
       "      <td>other</td>\n",
       "      <td>space</td>\n",
       "      <td>0.99973</td>\n",
       "      <td>4</td>\n",
       "      <td>0</td>\n",
       "      <td>0</td>\n",
       "      <td>0</td>\n",
       "      <td>1</td>\n",
       "      <td>male</td>\n",
       "      <td>...</td>\n",
       "      <td>0.99540</td>\n",
       "      <td>liked</td>\n",
       "      <td>female</td>\n",
       "      <td>other</td>\n",
       "      <td>0.99754</td>\n",
       "      <td>liked</td>\n",
       "      <td>female</td>\n",
       "      <td>marketing</td>\n",
       "      <td>0.99896</td>\n",
       "      <td>0.83028</td>\n",
       "    </tr>\n",
       "    <tr>\n",
       "      <th>247307</th>\n",
       "      <td>1.885073e+10</td>\n",
       "      <td>wiki</td>\n",
       "      <td>space</td>\n",
       "      <td>0.50000</td>\n",
       "      <td>1</td>\n",
       "      <td>0</td>\n",
       "      <td>0</td>\n",
       "      <td>0</td>\n",
       "      <td>1</td>\n",
       "      <td>female</td>\n",
       "      <td>...</td>\n",
       "      <td>0.99610</td>\n",
       "      <td>viewed</td>\n",
       "      <td>male</td>\n",
       "      <td>other</td>\n",
       "      <td>0.23077</td>\n",
       "      <td>viewed</td>\n",
       "      <td>male</td>\n",
       "      <td>marketing</td>\n",
       "      <td>0.23077</td>\n",
       "      <td>0.68673</td>\n",
       "    </tr>\n",
       "    <tr>\n",
       "      <th>175464</th>\n",
       "      <td>6.290477e+10</td>\n",
       "      <td>other</td>\n",
       "      <td>space</td>\n",
       "      <td>0.99923</td>\n",
       "      <td>7</td>\n",
       "      <td>1</td>\n",
       "      <td>1</td>\n",
       "      <td>0</td>\n",
       "      <td>1</td>\n",
       "      <td>male</td>\n",
       "      <td>...</td>\n",
       "      <td>0.99919</td>\n",
       "      <td>liked</td>\n",
       "      <td>male</td>\n",
       "      <td>other</td>\n",
       "      <td>0.99630</td>\n",
       "      <td>liked</td>\n",
       "      <td>male</td>\n",
       "      <td>marketing</td>\n",
       "      <td>0.99886</td>\n",
       "      <td>0.85489</td>\n",
       "    </tr>\n",
       "    <tr>\n",
       "      <th>263732</th>\n",
       "      <td>7.723549e+09</td>\n",
       "      <td>other</td>\n",
       "      <td>space</td>\n",
       "      <td>0.99949</td>\n",
       "      <td>1</td>\n",
       "      <td>1</td>\n",
       "      <td>0</td>\n",
       "      <td>0</td>\n",
       "      <td>1</td>\n",
       "      <td>male</td>\n",
       "      <td>...</td>\n",
       "      <td>0.99453</td>\n",
       "      <td>liked</td>\n",
       "      <td>male</td>\n",
       "      <td>marketing</td>\n",
       "      <td>0.99962</td>\n",
       "      <td>viewed</td>\n",
       "      <td>male</td>\n",
       "      <td>other</td>\n",
       "      <td>0.23077</td>\n",
       "      <td>0.79118</td>\n",
       "    </tr>\n",
       "    <tr>\n",
       "      <th>221667</th>\n",
       "      <td>3.146947e+10</td>\n",
       "      <td>forum</td>\n",
       "      <td>space</td>\n",
       "      <td>0.99977</td>\n",
       "      <td>1</td>\n",
       "      <td>2</td>\n",
       "      <td>0</td>\n",
       "      <td>0</td>\n",
       "      <td>1</td>\n",
       "      <td>male</td>\n",
       "      <td>...</td>\n",
       "      <td>0.99756</td>\n",
       "      <td>commented</td>\n",
       "      <td>male</td>\n",
       "      <td>marketing</td>\n",
       "      <td>0.99402</td>\n",
       "      <td>liked</td>\n",
       "      <td>male</td>\n",
       "      <td>other</td>\n",
       "      <td>0.99466</td>\n",
       "      <td>0.82705</td>\n",
       "    </tr>\n",
       "  </tbody>\n",
       "</table>\n",
       "<p>5 rows × 25 columns</p>\n",
       "</div>"
      ],
      "text/plain": [
       "                 age app_type owner_type  owner_influence  number_of_likes  \\\n",
       "id                                                                           \n",
       "267446  5.370325e+09    other      space          0.99973                4   \n",
       "247307  1.885073e+10     wiki      space          0.50000                1   \n",
       "175464  6.290477e+10    other      space          0.99923                7   \n",
       "263732  7.723549e+09    other      space          0.99949                1   \n",
       "221667  3.146947e+10    forum      space          0.99977                1   \n",
       "\n",
       "        number_of_comments  is_commented_by_connections  is_liked_by_me  \\\n",
       "id                                                                        \n",
       "267446                   0                            0               0   \n",
       "247307                   0                            0               0   \n",
       "175464                   1                            1               0   \n",
       "263732                   1                            0               0   \n",
       "221667                   2                            0               0   \n",
       "\n",
       "        is_liked_by_connections poster_gender  ... participant1_influence  \\\n",
       "id                                             ...                          \n",
       "267446                        1          male  ...                0.99540   \n",
       "247307                        1        female  ...                0.99610   \n",
       "175464                        1          male  ...                0.99919   \n",
       "263732                        1          male  ...                0.99453   \n",
       "221667                        1          male  ...                0.99756   \n",
       "\n",
       "        participant2_action participant2_gender participant2_focus  \\\n",
       "id                                                                   \n",
       "267446                liked              female              other   \n",
       "247307               viewed                male              other   \n",
       "175464                liked                male              other   \n",
       "263732                liked                male          marketing   \n",
       "221667            commented                male          marketing   \n",
       "\n",
       "       participant2_influence  participant3_action participant3_gender  \\\n",
       "id                                                                       \n",
       "267446                0.99754                liked              female   \n",
       "247307                0.23077               viewed                male   \n",
       "175464                0.99630                liked                male   \n",
       "263732                0.99962               viewed                male   \n",
       "221667                0.99402                liked                male   \n",
       "\n",
       "       participant3_focus participant3_influence     rank  \n",
       "id                                                         \n",
       "267446          marketing                0.99896  0.83028  \n",
       "247307          marketing                0.23077  0.68673  \n",
       "175464          marketing                0.99886  0.85489  \n",
       "263732              other                0.23077  0.79118  \n",
       "221667              other                0.99466  0.82705  \n",
       "\n",
       "[5 rows x 25 columns]"
      ]
     },
     "execution_count": 12,
     "metadata": {},
     "output_type": "execute_result"
    }
   ],
   "source": [
    "drop_cols = ['poster_id', 'participant1_id', 'participant2_id', 'participant3_id']\n",
    "num_cols = [i for i in num_cols if i not in drop_cols]\n",
    "train_df = train_df.drop(drop_cols, axis=1)\n",
    "train_df.head()"
   ]
  },
  {
   "cell_type": "markdown",
   "metadata": {},
   "source": [
    "#### Modifying 'poster_focus' column"
   ]
  },
  {
   "cell_type": "code",
   "execution_count": 13,
   "metadata": {},
   "outputs": [
    {
     "name": "stdout",
     "output_type": "stream",
     "text": [
      "'poster_focus' --> ['marketing' 'other' 'sales' 'engineering']\n"
     ]
    }
   ],
   "source": [
    "train_df['poster_focus'] = train_df['poster_focus'].apply(lambda row: 'other' if row == 'none' else row)\n",
    "print(\"'poster_focus' --> {}\".format(train_df['poster_focus'].unique()))"
   ]
  },
  {
   "cell_type": "markdown",
   "metadata": {},
   "source": [
    "#### Normalizing data"
   ]
  },
  {
   "cell_type": "markdown",
   "metadata": {},
   "source": [
    "Column 'age' has very large values, we need to rescale it for better training."
   ]
  },
  {
   "cell_type": "code",
   "execution_count": 17,
   "metadata": {},
   "outputs": [
    {
     "data": {
      "text/plain": [
       "count    7.534000e+03\n",
       "mean    -6.224558e-17\n",
       "std      1.000000e+00\n",
       "min     -1.703334e+00\n",
       "25%     -7.388548e-01\n",
       "50%     -8.894004e-02\n",
       "75%      7.513066e-01\n",
       "max      9.730396e+00\n",
       "Name: age, dtype: float64"
      ]
     },
     "execution_count": 17,
     "metadata": {},
     "output_type": "execute_result"
    }
   ],
   "source": [
    "train_df['age'] = (train_df['age'] - train_df['age'].mean()) / train_df['age'].std()\n",
    "train_df['age'].describe()"
   ]
  },
  {
   "cell_type": "markdown",
   "metadata": {},
   "source": [
    "### Tensorflow Magic"
   ]
  },
  {
   "cell_type": "code",
   "execution_count": 18,
   "metadata": {},
   "outputs": [
    {
     "name": "stdout",
     "output_type": "stream",
     "text": [
      "[NumericColumn(key='age', shape=(1,), default_value=None, dtype=tf.float32, normalizer_fn=None),\n",
      " NumericColumn(key='owner_influence', shape=(1,), default_value=None, dtype=tf.float32, normalizer_fn=None),\n",
      " NumericColumn(key='number_of_likes', shape=(1,), default_value=None, dtype=tf.float32, normalizer_fn=None),\n",
      " NumericColumn(key='number_of_comments', shape=(1,), default_value=None, dtype=tf.float32, normalizer_fn=None),\n",
      " NumericColumn(key='is_commented_by_connections', shape=(1,), default_value=None, dtype=tf.float32, normalizer_fn=None),\n",
      " NumericColumn(key='is_liked_by_me', shape=(1,), default_value=None, dtype=tf.float32, normalizer_fn=None),\n",
      " NumericColumn(key='is_liked_by_connections', shape=(1,), default_value=None, dtype=tf.float32, normalizer_fn=None),\n",
      " NumericColumn(key='poster_influence', shape=(1,), default_value=None, dtype=tf.float32, normalizer_fn=None),\n",
      " NumericColumn(key='participant1_influence', shape=(1,), default_value=None, dtype=tf.float32, normalizer_fn=None),\n",
      " NumericColumn(key='participant2_influence', shape=(1,), default_value=None, dtype=tf.float32, normalizer_fn=None),\n",
      " NumericColumn(key='participant3_influence', shape=(1,), default_value=None, dtype=tf.float32, normalizer_fn=None),\n",
      " IndicatorColumn(categorical_column=VocabularyListCategoricalColumn(key='app_type', vocabulary_list=('other', 'wiki', 'forum', 'calendar', 'poll', 'social'), dtype=tf.string, default_value=-1, num_oov_buckets=0)),\n",
      " IndicatorColumn(categorical_column=VocabularyListCategoricalColumn(key='owner_type', vocabulary_list=('space', 'user'), dtype=tf.string, default_value=-1, num_oov_buckets=0)),\n",
      " IndicatorColumn(categorical_column=VocabularyListCategoricalColumn(key='poster_gender', vocabulary_list=('male', 'female'), dtype=tf.string, default_value=-1, num_oov_buckets=0)),\n",
      " IndicatorColumn(categorical_column=VocabularyListCategoricalColumn(key='poster_focus', vocabulary_list=('marketing', 'other', 'sales', 'engineering'), dtype=tf.string, default_value=-1, num_oov_buckets=0)),\n",
      " IndicatorColumn(categorical_column=VocabularyListCategoricalColumn(key='participant1_action', vocabulary_list=('liked', 'commented', 'viewed'), dtype=tf.string, default_value=-1, num_oov_buckets=0)),\n",
      " IndicatorColumn(categorical_column=VocabularyListCategoricalColumn(key='participant1_gender', vocabulary_list=('female', 'male'), dtype=tf.string, default_value=-1, num_oov_buckets=0)),\n",
      " IndicatorColumn(categorical_column=VocabularyListCategoricalColumn(key='participant1_focus', vocabulary_list=('marketing', 'other', 'sales', 'engineering'), dtype=tf.string, default_value=-1, num_oov_buckets=0)),\n",
      " IndicatorColumn(categorical_column=VocabularyListCategoricalColumn(key='participant2_action', vocabulary_list=('liked', 'viewed', 'commented'), dtype=tf.string, default_value=-1, num_oov_buckets=0)),\n",
      " IndicatorColumn(categorical_column=VocabularyListCategoricalColumn(key='participant2_gender', vocabulary_list=('female', 'male'), dtype=tf.string, default_value=-1, num_oov_buckets=0)),\n",
      " IndicatorColumn(categorical_column=VocabularyListCategoricalColumn(key='participant2_focus', vocabulary_list=('other', 'marketing', 'engineering', 'sales'), dtype=tf.string, default_value=-1, num_oov_buckets=0)),\n",
      " IndicatorColumn(categorical_column=VocabularyListCategoricalColumn(key='participant3_action', vocabulary_list=('liked', 'viewed', 'commented'), dtype=tf.string, default_value=-1, num_oov_buckets=0)),\n",
      " IndicatorColumn(categorical_column=VocabularyListCategoricalColumn(key='participant3_gender', vocabulary_list=('female', 'male'), dtype=tf.string, default_value=-1, num_oov_buckets=0)),\n",
      " IndicatorColumn(categorical_column=VocabularyListCategoricalColumn(key='participant3_focus', vocabulary_list=('marketing', 'other', 'sales', 'engineering'), dtype=tf.string, default_value=-1, num_oov_buckets=0))]\n"
     ]
    }
   ],
   "source": [
    "feature_columns = []\n",
    "\n",
    "# numerical columns\n",
    "for col in num_cols:\n",
    "    feature_columns.append(tf.feature_column.numeric_column(col))\n",
    "\n",
    "# categorical columns\n",
    "for col in cat_cols:\n",
    "    feature_columns.append(tf.feature_column.indicator_column(\n",
    "                           tf.feature_column.categorical_column_with_vocabulary_list(col, train_df[col].unique())))\n",
    "\n",
    "pprint(feature_columns)"
   ]
  },
  {
   "cell_type": "markdown",
   "metadata": {},
   "source": [
    "#### Feature Crosses"
   ]
  },
  {
   "cell_type": "code",
   "execution_count": 19,
   "metadata": {},
   "outputs": [],
   "source": [
    "# Feature crosses\n",
    "participant1_overview = tf.feature_column.indicator_column(tf.feature_column.crossed_column(\n",
    "                        ['participant1_action', 'participant1_focus', 'participant1_gender'], 50000))\n",
    "participant2_overview = tf.feature_column.indicator_column(tf.feature_column.crossed_column(\n",
    "                        ['participant2_action', 'participant2_focus', 'participant2_gender'], 50000))\n",
    "participant3_overview = tf.feature_column.indicator_column(tf.feature_column.crossed_column(\n",
    "                        ['participant3_action', 'participant3_focus', 'participant3_gender'], 50000))\n",
    "\n",
    "feature_columns += [participant1_overview, participant2_overview, participant3_overview]"
   ]
  },
  {
   "cell_type": "markdown",
   "metadata": {},
   "source": [
    "## Building model"
   ]
  },
  {
   "cell_type": "code",
   "execution_count": 20,
   "metadata": {},
   "outputs": [],
   "source": [
    "fp_feature_layer = DenseFeatures(feature_columns)  # input layer created from features\n",
    "\n",
    "model = Sequential([fp_feature_layer,\n",
    "                    Dense(50, activation='relu'), \n",
    "                    Dense(1, activation='sigmoid')])"
   ]
  },
  {
   "cell_type": "code",
   "execution_count": 21,
   "metadata": {},
   "outputs": [],
   "source": [
    "model.compile(loss='mse', optimizer='sgd', metrics=['mse'])"
   ]
  },
  {
   "cell_type": "code",
   "execution_count": 22,
   "metadata": {},
   "outputs": [
    {
     "name": "stdout",
     "output_type": "stream",
     "text": [
      "WARNING:tensorflow:From /home/dmkirichen/anaconda3/lib/python3.7/site-packages/tensorflow_core/python/feature_column/feature_column_v2.py:4267: IndicatorColumn._variable_shape (from tensorflow.python.feature_column.feature_column_v2) is deprecated and will be removed in a future version.\n",
      "Instructions for updating:\n",
      "The old _FeatureColumn APIs are being deprecated. Please use the new FeatureColumn APIs instead.\n",
      "WARNING:tensorflow:From /home/dmkirichen/anaconda3/lib/python3.7/site-packages/tensorflow_core/python/feature_column/feature_column_v2.py:4322: VocabularyListCategoricalColumn._num_buckets (from tensorflow.python.feature_column.feature_column_v2) is deprecated and will be removed in a future version.\n",
      "Instructions for updating:\n",
      "The old _FeatureColumn APIs are being deprecated. Please use the new FeatureColumn APIs instead.\n",
      "WARNING:tensorflow:From /home/dmkirichen/anaconda3/lib/python3.7/site-packages/tensorflow_core/python/feature_column/feature_column_v2.py:4322: CrossedColumn._num_buckets (from tensorflow.python.feature_column.feature_column_v2) is deprecated and will be removed in a future version.\n",
      "Instructions for updating:\n",
      "The old _FeatureColumn APIs are being deprecated. Please use the new FeatureColumn APIs instead.\n",
      "Train on 7534 samples\n",
      "Epoch 1/10\n",
      "7534/7534 [==============================] - 42s 6ms/sample - loss: 0.0062 - mse: 0.0062\n",
      "Epoch 2/10\n",
      "7534/7534 [==============================] - 42s 6ms/sample - loss: 0.0027 - mse: 0.0027\n",
      "Epoch 3/10\n",
      "7534/7534 [==============================] - 38s 5ms/sample - loss: 0.0022 - mse: 0.0022\n",
      "Epoch 4/10\n",
      "7534/7534 [==============================] - 36s 5ms/sample - loss: 0.0019 - mse: 0.0019\n",
      "Epoch 5/10\n",
      "7534/7534 [==============================] - 40s 5ms/sample - loss: 0.0017 - mse: 0.0017\n",
      "Epoch 6/10\n",
      "7534/7534 [==============================] - 37s 5ms/sample - loss: 0.0016 - mse: 0.0016\n",
      "Epoch 7/10\n",
      "7534/7534 [==============================] - 39s 5ms/sample - loss: 0.0015 - mse: 0.0015\n",
      "Epoch 8/10\n",
      "7534/7534 [==============================] - 34s 5ms/sample - loss: 0.0015 - mse: 0.0015\n",
      "Epoch 9/10\n",
      "7534/7534 [==============================] - 36s 5ms/sample - loss: 0.0014 - mse: 0.0014\n",
      "Epoch 10/10\n",
      "7534/7534 [==============================] - 35s 5ms/sample - loss: 0.0014 - mse: 0.0014\n"
     ]
    },
    {
     "data": {
      "text/plain": [
       "<tensorflow.python.keras.callbacks.History at 0x7f55983cfa50>"
      ]
     },
     "execution_count": 22,
     "metadata": {},
     "output_type": "execute_result"
    }
   ],
   "source": [
    "features = {name: np.array(value) for name, value in train_df.items()}  # creating feed-dictionary\n",
    "label = np.array(features.pop('rank'))  # target column\n",
    "\n",
    "model.fit(features, label, epochs=10, batch_size=10)"
   ]
  },
  {
   "cell_type": "code",
   "execution_count": 23,
   "metadata": {},
   "outputs": [],
   "source": [
    "# Saving the model\n",
    "\n",
    "model.save('model.h5')"
   ]
  },
  {
   "cell_type": "markdown",
   "metadata": {},
   "source": [
    "### Predicting new values"
   ]
  },
  {
   "cell_type": "code",
   "execution_count": 24,
   "metadata": {},
   "outputs": [],
   "source": [
    "def predict(filename):\n",
    "    \"\"\"\n",
    "    Function for preprocessing new data and predicting 'rank' values, using trained model.\n",
    "    \"\"\"\n",
    "    \n",
    "    df = pd.read_csv(os.path.join(DATA, filename))\n",
    "    \n",
    "    # Changing some of the focus columns\n",
    "    df['poster_focus'] = df['poster_focus'].apply(lambda row: 'other' if row == 'none' else row)\n",
    "\n",
    "    # Dropping redundant columns\n",
    "    df = df.drop(drop_cols, axis=1)\n",
    "\n",
    "    # Rescaling 'age' column\n",
    "    df['age'] = (df['age'] - df['age'].mean()) / df['age'].std()\n",
    "    \n",
    "    # Using the model\n",
    "    f = {name: np.array(value) for name, value in df.items() if name != 'rank'}\n",
    "    y = model.predict(f)\n",
    "    return y"
   ]
  },
  {
   "cell_type": "code",
   "execution_count": 25,
   "metadata": {},
   "outputs": [],
   "source": [
    "y_pred = predict('test.csv')"
   ]
  },
  {
   "cell_type": "code",
   "execution_count": 26,
   "metadata": {},
   "outputs": [],
   "source": [
    "# Checking with real answers\n",
    "\n",
    "y = pd.read_csv(os.path.join(DATA, 'test.csv'))['rank'].to_numpy().reshape(-1, 1)"
   ]
  },
  {
   "cell_type": "code",
   "execution_count": 27,
   "metadata": {},
   "outputs": [
    {
     "name": "stdout",
     "output_type": "stream",
     "text": [
      "0.001339342431878736\n"
     ]
    }
   ],
   "source": [
    "# Calculating MSE for test data\n",
    "\n",
    "mse = np.sum((y - y_pred) ** 2) / len(y)\n",
    "print(mse)"
   ]
  },
  {
   "cell_type": "code",
   "execution_count": null,
   "metadata": {},
   "outputs": [],
   "source": []
  }
 ],
 "metadata": {
  "kernelspec": {
   "display_name": "Python 3",
   "language": "python",
   "name": "python3"
  },
  "language_info": {
   "codemirror_mode": {
    "name": "ipython",
    "version": 3
   },
   "file_extension": ".py",
   "mimetype": "text/x-python",
   "name": "python",
   "nbconvert_exporter": "python",
   "pygments_lexer": "ipython3",
   "version": "3.7.6"
  }
 },
 "nbformat": 4,
 "nbformat_minor": 4
}
